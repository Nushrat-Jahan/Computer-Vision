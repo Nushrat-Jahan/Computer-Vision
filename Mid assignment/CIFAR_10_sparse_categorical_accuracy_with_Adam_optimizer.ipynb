{
  "nbformat": 4,
  "nbformat_minor": 0,
  "metadata": {
    "colab": {
      "name": "CIFAR-10 sparse_categorical_accuracy with Adam optimizer.ipynb",
      "provenance": [],
      "authorship_tag": "ABX9TyNS9zZzfjELqjjTubot8iKq",
      "include_colab_link": true
    },
    "kernelspec": {
      "name": "python3",
      "display_name": "Python 3"
    },
    "language_info": {
      "name": "python"
    }
  },
  "cells": [
    {
      "cell_type": "markdown",
      "metadata": {
        "id": "view-in-github",
        "colab_type": "text"
      },
      "source": [
        "<a href=\"https://colab.research.google.com/github/Nushrat-Jahan/Computer-Vision/blob/main/Mid%20assignment/CIFAR_10_sparse_categorical_accuracy_with_Adam_optimizer.ipynb\" target=\"_parent\"><img src=\"https://colab.research.google.com/assets/colab-badge.svg\" alt=\"Open In Colab\"/></a>"
      ]
    },
    {
      "cell_type": "code",
      "execution_count": 1,
      "metadata": {
        "id": "mFbes7_9hesi"
      },
      "outputs": [],
      "source": [
        "import tensorflow as tf\n",
        "import matplotlib.pyplot as plt"
      ]
    },
    {
      "cell_type": "code",
      "source": [
        "from tensorflow.keras.datasets import cifar10"
      ],
      "metadata": {
        "id": "Xkg82Zdyhg87"
      },
      "execution_count": 2,
      "outputs": []
    },
    {
      "cell_type": "markdown",
      "source": [
        "Loading Dataset"
      ],
      "metadata": {
        "id": "Kwm6Bb7Whq-o"
      }
    },
    {
      "cell_type": "code",
      "source": [
        "# setting class names\n",
        "class_names=['airplane','automobile','bird','cat','deer','dog','frog','horse','ship','truck']\n",
        "#loading the dataset\n",
        "(x_train,y_train),(x_test,y_test)=cifar10.load_data()"
      ],
      "metadata": {
        "colab": {
          "base_uri": "https://localhost:8080/"
        },
        "id": "HdA2FpCvhi86",
        "outputId": "5178f405-c54b-4049-a4f3-10fab04c70db"
      },
      "execution_count": 3,
      "outputs": [
        {
          "output_type": "stream",
          "name": "stdout",
          "text": [
            "Downloading data from https://www.cs.toronto.edu/~kriz/cifar-10-python.tar.gz\n",
            "170500096/170498071 [==============================] - 2s 0us/step\n",
            "170508288/170498071 [==============================] - 2s 0us/step\n"
          ]
        }
      ]
    },
    {
      "cell_type": "markdown",
      "source": [
        "Normalizing the images"
      ],
      "metadata": {
        "id": "tf1kQZdwhvYQ"
      }
    },
    {
      "cell_type": "code",
      "source": [
        "x_train=x_train/255.0\n",
        "x_train.shape"
      ],
      "metadata": {
        "colab": {
          "base_uri": "https://localhost:8080/"
        },
        "id": "EgAKjvxFhm7g",
        "outputId": "9a67f622-6242-42d1-f544-509773377d1d"
      },
      "execution_count": 4,
      "outputs": [
        {
          "output_type": "execute_result",
          "data": {
            "text/plain": [
              "(50000, 32, 32, 3)"
            ]
          },
          "metadata": {},
          "execution_count": 4
        }
      ]
    },
    {
      "cell_type": "code",
      "source": [
        "x_test=x_test/255.0\n",
        "x_test.shape"
      ],
      "metadata": {
        "colab": {
          "base_uri": "https://localhost:8080/"
        },
        "id": "Br5ZL9SCh0Yw",
        "outputId": "d3a437b6-dae9-4ef6-ebd4-c6f48a25ef16"
      },
      "execution_count": 5,
      "outputs": [
        {
          "output_type": "execute_result",
          "data": {
            "text/plain": [
              "(10000, 32, 32, 3)"
            ]
          },
          "metadata": {},
          "execution_count": 5
        }
      ]
    },
    {
      "cell_type": "markdown",
      "source": [
        "Randomly checking an image"
      ],
      "metadata": {
        "id": "QAl0m06wh5g4"
      }
    },
    {
      "cell_type": "code",
      "source": [
        "plt.imshow(x_test[215])"
      ],
      "metadata": {
        "colab": {
          "base_uri": "https://localhost:8080/",
          "height": 284
        },
        "id": "pexMfHwYh3B4",
        "outputId": "41bbc2ed-8d3f-4ef9-fd19-5a7abd0dadc7"
      },
      "execution_count": 6,
      "outputs": [
        {
          "output_type": "execute_result",
          "data": {
            "text/plain": [
              "<matplotlib.image.AxesImage at 0x7f1e4cb9ead0>"
            ]
          },
          "metadata": {},
          "execution_count": 6
        },
        {
          "output_type": "display_data",
          "data": {
            "text/plain": [
              "<Figure size 432x288 with 1 Axes>"
            ],
            "image/png": "[encoded data removed]"
          },
          "metadata": {
            "needs_background": "light"
          }
        }
      ]
    },
    {
      "cell_type": "markdown",
      "source": [
        "Building a Convolution Neural Network"
      ],
      "metadata": {
        "id": "byhnqbhoiC6w"
      }
    },
    {
      "cell_type": "code",
      "source": [
        "cifar10_model=tf.keras.models.Sequential()"
      ],
      "metadata": {
        "id": "esc7yw11h-A-"
      },
      "execution_count": 7,
      "outputs": []
    },
    {
      "cell_type": "code",
      "source": [
        "# First Layer\n",
        "cifar10_model.add(tf.keras.layers.Conv2D(filters=32,kernel_size=3,padding=\"same\", activation=\"relu\", input_shape=[32,32,3]))"
      ],
      "metadata": {
        "id": "Ss_4VpzhiLkA"
      },
      "execution_count": 8,
      "outputs": []
    },
    {
      "cell_type": "code",
      "source": [
        "# Second Layer\n",
        "cifar10_model.add(tf.keras.layers.Conv2D(filters=32,kernel_size=3,padding=\"same\", activation=\"relu\"))"
      ],
      "metadata": {
        "id": "t5plTU9NiNpg"
      },
      "execution_count": 9,
      "outputs": []
    },
    {
      "cell_type": "code",
      "source": [
        "# Max Pooling Layer\n",
        "cifar10_model.add(tf.keras.layers.MaxPool2D(pool_size=2,strides=2,padding='valid'))"
      ],
      "metadata": {
        "id": "FrZ1C3zSiPsI"
      },
      "execution_count": 10,
      "outputs": []
    },
    {
      "cell_type": "code",
      "source": [
        "# Third Layer\n",
        "cifar10_model.add(tf.keras.layers.Conv2D(filters=64,kernel_size=3,padding=\"same\", activation=\"relu\"))"
      ],
      "metadata": {
        "id": "kEjBiO8tiRy4"
      },
      "execution_count": 11,
      "outputs": []
    },
    {
      "cell_type": "code",
      "source": [
        "# Fourth Layer\n",
        "cifar10_model.add(tf.keras.layers.Conv2D(filters=64,kernel_size=3,padding=\"same\", activation=\"relu\"))"
      ],
      "metadata": {
        "id": "61e71RRSiU4_"
      },
      "execution_count": 12,
      "outputs": []
    },
    {
      "cell_type": "code",
      "source": [
        "# Max Pooling Layer\n",
        "cifar10_model.add(tf.keras.layers.MaxPool2D(pool_size=2,strides=2,padding='valid'))"
      ],
      "metadata": {
        "id": "IDIKMGCriXIZ"
      },
      "execution_count": 13,
      "outputs": []
    },
    {
      "cell_type": "code",
      "source": [
        "# Flattening Layer\n",
        "cifar10_model.add(tf.keras.layers.Flatten())"
      ],
      "metadata": {
        "id": "H0op3stDiZDi"
      },
      "execution_count": 14,
      "outputs": []
    },
    {
      "cell_type": "code",
      "source": [
        "# Droput Layer\n",
        "cifar10_model.add(tf.keras.layers.Dropout(0.5,noise_shape=None,seed=None))"
      ],
      "metadata": {
        "id": "5F_O51whiawv"
      },
      "execution_count": 15,
      "outputs": []
    },
    {
      "cell_type": "code",
      "source": [
        "# Adding the first fully connected layer\n",
        "cifar10_model.add(tf.keras.layers.Dense(units=128,activation='relu'))"
      ],
      "metadata": {
        "id": "D4nRKRF_idQp"
      },
      "execution_count": 16,
      "outputs": []
    },
    {
      "cell_type": "code",
      "source": [
        "# Output Layer\n",
        "cifar10_model.add(tf.keras.layers.Dense(units=10,activation='softmax'))"
      ],
      "metadata": {
        "id": "m79WdffyigHP"
      },
      "execution_count": 17,
      "outputs": []
    },
    {
      "cell_type": "code",
      "source": [
        "cifar10_model.summary()"
      ],
      "metadata": {
        "colab": {
          "base_uri": "https://localhost:8080/"
        },
        "id": "UicQ7u90iiVY",
        "outputId": "82b09b6c-6915-40ec-e8b0-b31d9dbcb6a7"
      },
      "execution_count": 18,
      "outputs": [
        {
          "output_type": "stream",
          "name": "stdout",
          "text": [
            "Model: \"sequential\"\n",
            "_________________________________________________________________\n",
            " Layer (type)                Output Shape              Param #   \n",
            "=================================================================\n",
            " conv2d (Conv2D)             (None, 32, 32, 32)        896       \n",
            "                                                                 \n",
            " conv2d_1 (Conv2D)           (None, 32, 32, 32)        9248      \n",
            "                                                                 \n",
            " max_pooling2d (MaxPooling2D  (None, 16, 16, 32)       0         \n",
            " )                                                               \n",
            "                                                                 \n",
            " conv2d_2 (Conv2D)           (None, 16, 16, 64)        18496     \n",
            "                                                                 \n",
            " conv2d_3 (Conv2D)           (None, 16, 16, 64)        36928     \n",
            "                                                                 \n",
            " max_pooling2d_1 (MaxPooling  (None, 8, 8, 64)         0         \n",
            " 2D)                                                             \n",
            "                                                                 \n",
            " flatten (Flatten)           (None, 4096)              0         \n",
            "                                                                 \n",
            " dropout (Dropout)           (None, 4096)              0         \n",
            "                                                                 \n",
            " dense (Dense)               (None, 128)               524416    \n",
            "                                                                 \n",
            " dense_1 (Dense)             (None, 10)                1290      \n",
            "                                                                 \n",
            "=================================================================\n",
            "Total params: 591,274\n",
            "Trainable params: 591,274\n",
            "Non-trainable params: 0\n",
            "_________________________________________________________________\n"
          ]
        }
      ]
    },
    {
      "cell_type": "markdown",
      "source": [
        "Compiling the Model"
      ],
      "metadata": {
        "id": "1IdgeRsPimPY"
      }
    },
    {
      "cell_type": "code",
      "source": [
        "cifar10_model.compile(loss=\"sparse_categorical_crossentropy\", optimizer=\"Adam\", metrics=[\"sparse_categorical_accuracy\"])"
      ],
      "metadata": {
        "id": "iCQxg781ij7J"
      },
      "execution_count": 19,
      "outputs": []
    },
    {
      "cell_type": "markdown",
      "source": [
        "Training the Model"
      ],
      "metadata": {
        "id": "wJOoJTMOivdT"
      }
    },
    {
      "cell_type": "code",
      "source": [
        "cifar10_model.fit(x_train,y_train,epochs=15)"
      ],
      "metadata": {
        "colab": {
          "base_uri": "https://localhost:8080/"
        },
        "id": "jQ2cTi50iysi",
        "outputId": "89f0a008-999e-40d8-869e-aa3d5bb1007f"
      },
      "execution_count": 20,
      "outputs": [
        {
          "output_type": "stream",
          "name": "stdout",
          "text": [
            "Epoch 1/15\n",
            "1563/1563 [==============================] - 258s 164ms/step - loss: 1.4399 - sparse_categorical_accuracy: 0.4788\n",
            "Epoch 2/15\n",
            "1563/1563 [==============================] - 261s 167ms/step - loss: 1.0141 - sparse_categorical_accuracy: 0.6366\n",
            "Epoch 3/15\n",
            "1563/1563 [==============================] - 259s 166ms/step - loss: 0.8589 - sparse_categorical_accuracy: 0.6964\n",
            "Epoch 4/15\n",
            "1563/1563 [==============================] - 259s 166ms/step - loss: 0.7665 - sparse_categorical_accuracy: 0.7276\n",
            "Epoch 5/15\n",
            "1563/1563 [==============================] - 261s 167ms/step - loss: 0.7018 - sparse_categorical_accuracy: 0.7504\n",
            "Epoch 6/15\n",
            "1563/1563 [==============================] - 263s 168ms/step - loss: 0.6467 - sparse_categorical_accuracy: 0.7714\n",
            "Epoch 7/15\n",
            "1563/1563 [==============================] - 262s 167ms/step - loss: 0.6006 - sparse_categorical_accuracy: 0.7876\n",
            "Epoch 8/15\n",
            "1563/1563 [==============================] - 263s 168ms/step - loss: 0.5567 - sparse_categorical_accuracy: 0.8032\n",
            "Epoch 9/15\n",
            "1563/1563 [==============================] - 262s 167ms/step - loss: 0.5300 - sparse_categorical_accuracy: 0.8127\n",
            "Epoch 10/15\n",
            "1563/1563 [==============================] - 261s 167ms/step - loss: 0.5042 - sparse_categorical_accuracy: 0.8227\n",
            "Epoch 11/15\n",
            "1563/1563 [==============================] - 260s 167ms/step - loss: 0.4701 - sparse_categorical_accuracy: 0.8338\n",
            "Epoch 12/15\n",
            "1563/1563 [==============================] - 262s 168ms/step - loss: 0.4500 - sparse_categorical_accuracy: 0.8410\n",
            "Epoch 13/15\n",
            "1563/1563 [==============================] - 262s 168ms/step - loss: 0.4295 - sparse_categorical_accuracy: 0.8466\n",
            "Epoch 14/15\n",
            "1563/1563 [==============================] - 261s 167ms/step - loss: 0.4089 - sparse_categorical_accuracy: 0.8535\n",
            "Epoch 15/15\n",
            "1563/1563 [==============================] - 260s 167ms/step - loss: 0.3965 - sparse_categorical_accuracy: 0.8590\n"
          ]
        },
        {
          "output_type": "execute_result",
          "data": {
            "text/plain": [
              "<keras.callbacks.History at 0x7f1e48513410>"
            ]
          },
          "metadata": {},
          "execution_count": 20
        }
      ]
    },
    {
      "cell_type": "code",
      "source": [
        "test_loss, test_accuracy = cifar10_model.evaluate(x_test, y_test)"
      ],
      "metadata": {
        "colab": {
          "base_uri": "https://localhost:8080/"
        },
        "id": "JGLYbMhbi05H",
        "outputId": "5c75a8c7-6af0-4273-8acf-9b3d8f40c8f3"
      },
      "execution_count": 21,
      "outputs": [
        {
          "output_type": "stream",
          "name": "stdout",
          "text": [
            "313/313 [==============================] - 13s 40ms/step - loss: 0.6663 - sparse_categorical_accuracy: 0.7853\n"
          ]
        }
      ]
    },
    {
      "cell_type": "code",
      "source": [
        "print(\"Test accuracy: {}\".format(test_accuracy))"
      ],
      "metadata": {
        "colab": {
          "base_uri": "https://localhost:8080/"
        },
        "id": "uPhfNDzUi5ep",
        "outputId": "dfa24bf3-bb5c-478c-bfb3-84c3c9e58d34"
      },
      "execution_count": 22,
      "outputs": [
        {
          "output_type": "stream",
          "name": "stdout",
          "text": [
            "Test accuracy: 0.7853000164031982\n"
          ]
        }
      ]
    }
  ]
}