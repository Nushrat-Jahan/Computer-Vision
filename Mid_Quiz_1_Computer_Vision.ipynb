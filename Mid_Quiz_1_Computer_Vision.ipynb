{
  "nbformat": 4,
  "nbformat_minor": 0,
  "metadata": {
    "colab": {
      "name": "Mid_Quiz_1_Computer_Vision.ipynb",
      "provenance": [],
      "authorship_tag": "ABX9TyPZzLh9CzawBjthzS2nwVKl",
      "include_colab_link": true
    },
    "kernelspec": {
      "name": "python3",
      "display_name": "Python 3"
    },
    "language_info": {
      "name": "python"
    }
  },
  "cells": [
    {
      "cell_type": "markdown",
      "metadata": {
        "id": "view-in-github",
        "colab_type": "text"
      },
      "source": [
        "<a href=\"https://colab.research.google.com/github/Nushrat-Jahan/Computer-Vision/blob/main/Mid_Quiz_1_Computer_Vision.ipynb\" target=\"_parent\"><img src=\"https://colab.research.google.com/assets/colab-badge.svg\" alt=\"Open In Colab\"/></a>"
      ]
    },
    {
      "cell_type": "code",
      "execution_count": 3,
      "metadata": {
        "colab": {
          "base_uri": "https://localhost:8080/"
        },
        "id": "nFoyT4byqXx2",
        "outputId": "f03c7952-0022-4927-8a83-df363df39fcd"
      },
      "outputs": [
        {
          "output_type": "stream",
          "name": "stdout",
          "text": [
            "Input data:  [5, 3, 1, 2, 4, 7, 9, 10, 11, 15]\n",
            "Starting Traditional Bubble Sort...\n",
            "i= 0\n",
            " j= 0   arr=  [5, 3, 1, 2, 4, 7, 9, 10, 11, 15]\n",
            " j= 1   arr=  [3, 5, 1, 2, 4, 7, 9, 10, 11, 15]\n",
            " j= 2   arr=  [3, 1, 5, 2, 4, 7, 9, 10, 11, 15]\n",
            " j= 3   arr=  [3, 1, 2, 5, 4, 7, 9, 10, 11, 15]\n",
            " j= 4   arr=  [3, 1, 2, 4, 5, 7, 9, 10, 11, 15]\n",
            " j= 5   arr=  [3, 1, 2, 4, 5, 7, 9, 10, 11, 15]\n",
            " j= 6   arr=  [3, 1, 2, 4, 5, 7, 9, 10, 11, 15]\n",
            " j= 7   arr=  [3, 1, 2, 4, 5, 7, 9, 10, 11, 15]\n",
            " j= 8   arr=  [3, 1, 2, 4, 5, 7, 9, 10, 11, 15]\n",
            "i= 1\n",
            " j= 0   arr=  [3, 1, 2, 4, 5, 7, 9, 10, 11, 15]\n",
            " j= 1   arr=  [1, 3, 2, 4, 5, 7, 9, 10, 11, 15]\n",
            " j= 2   arr=  [1, 2, 3, 4, 5, 7, 9, 10, 11, 15]\n",
            " j= 3   arr=  [1, 2, 3, 4, 5, 7, 9, 10, 11, 15]\n",
            " j= 4   arr=  [1, 2, 3, 4, 5, 7, 9, 10, 11, 15]\n",
            " j= 5   arr=  [1, 2, 3, 4, 5, 7, 9, 10, 11, 15]\n",
            " j= 6   arr=  [1, 2, 3, 4, 5, 7, 9, 10, 11, 15]\n",
            " j= 7   arr=  [1, 2, 3, 4, 5, 7, 9, 10, 11, 15]\n",
            "i= 2\n",
            " j= 0   arr=  [1, 2, 3, 4, 5, 7, 9, 10, 11, 15]\n",
            " j= 1   arr=  [1, 2, 3, 4, 5, 7, 9, 10, 11, 15]\n",
            " j= 2   arr=  [1, 2, 3, 4, 5, 7, 9, 10, 11, 15]\n",
            " j= 3   arr=  [1, 2, 3, 4, 5, 7, 9, 10, 11, 15]\n",
            " j= 4   arr=  [1, 2, 3, 4, 5, 7, 9, 10, 11, 15]\n",
            " j= 5   arr=  [1, 2, 3, 4, 5, 7, 9, 10, 11, 15]\n",
            " j= 6   arr=  [1, 2, 3, 4, 5, 7, 9, 10, 11, 15]\n",
            "i= 3\n",
            " j= 0   arr=  [1, 2, 3, 4, 5, 7, 9, 10, 11, 15]\n",
            " j= 1   arr=  [1, 2, 3, 4, 5, 7, 9, 10, 11, 15]\n",
            " j= 2   arr=  [1, 2, 3, 4, 5, 7, 9, 10, 11, 15]\n",
            " j= 3   arr=  [1, 2, 3, 4, 5, 7, 9, 10, 11, 15]\n",
            " j= 4   arr=  [1, 2, 3, 4, 5, 7, 9, 10, 11, 15]\n",
            " j= 5   arr=  [1, 2, 3, 4, 5, 7, 9, 10, 11, 15]\n",
            "i= 4\n",
            " j= 0   arr=  [1, 2, 3, 4, 5, 7, 9, 10, 11, 15]\n",
            " j= 1   arr=  [1, 2, 3, 4, 5, 7, 9, 10, 11, 15]\n",
            " j= 2   arr=  [1, 2, 3, 4, 5, 7, 9, 10, 11, 15]\n",
            " j= 3   arr=  [1, 2, 3, 4, 5, 7, 9, 10, 11, 15]\n",
            " j= 4   arr=  [1, 2, 3, 4, 5, 7, 9, 10, 11, 15]\n",
            "i= 5\n",
            " j= 0   arr=  [1, 2, 3, 4, 5, 7, 9, 10, 11, 15]\n",
            " j= 1   arr=  [1, 2, 3, 4, 5, 7, 9, 10, 11, 15]\n",
            " j= 2   arr=  [1, 2, 3, 4, 5, 7, 9, 10, 11, 15]\n",
            " j= 3   arr=  [1, 2, 3, 4, 5, 7, 9, 10, 11, 15]\n",
            "i= 6\n",
            " j= 0   arr=  [1, 2, 3, 4, 5, 7, 9, 10, 11, 15]\n",
            " j= 1   arr=  [1, 2, 3, 4, 5, 7, 9, 10, 11, 15]\n",
            " j= 2   arr=  [1, 2, 3, 4, 5, 7, 9, 10, 11, 15]\n",
            "i= 7\n",
            " j= 0   arr=  [1, 2, 3, 4, 5, 7, 9, 10, 11, 15]\n",
            " j= 1   arr=  [1, 2, 3, 4, 5, 7, 9, 10, 11, 15]\n",
            "i= 8\n",
            " j= 0   arr=  [1, 2, 3, 4, 5, 7, 9, 10, 11, 15]\n",
            "Sorted list:  [1, 2, 3, 4, 5, 7, 9, 10, 11, 15]\n"
          ]
        }
      ],
      "source": [
        "\"\"\"\n",
        "@author: Nushrat Jahan\n",
        "ID: 21-92188-3\n",
        "\n",
        "\"\"\"\n",
        "\n",
        "# ****BUBBLE SORT****\n",
        "\n",
        "def bubbleSort(arr): \n",
        "    n = len(arr) \n",
        "    for i in range(n-1): \n",
        "        print('i=',i)\n",
        "        for j in range(0, n-i-1): \n",
        "            print(' j=',j,\"  arr= \",arr)\n",
        "            if arr[j] > arr[j+1] : \n",
        "                arr[j], arr[j+1] = arr[j+1], arr[j] \n",
        "  \n",
        "# Driver code to test above \n",
        "arr = [5, 3, 1, 2, 4, 7, 9 ,10, 11, 15] \n",
        "print('Input data: ',arr)\n",
        "print('Starting Traditional Bubble Sort...') \n",
        "bubbleSort(arr) \n",
        "  \n",
        "print (\"Sorted list: \",arr) \n"
      ]
    },
    {
      "cell_type": "code",
      "source": [
        "\"\"\"\n",
        "@author: Nushrat Jahan\n",
        "ID: 21-92188-3\n",
        "\n",
        "\"\"\"\n",
        "\n",
        "# ****QUICK SORT****\n",
        "\n",
        "def quick_sort(lst):\n",
        "    if lst == []:   return []\n",
        "    pivot = lst[0]\n",
        "    left = [x for x in lst[1:] if x < pivot]\n",
        "    right = [x for x in lst[1:] if x > pivot]\n",
        "    print(lst, pivot, \"is pivot\", left, \"and\", right, \"should be sorted\")\n",
        "    new_arr = quick_sort(left) + [pivot] + quick_sort(right)\n",
        "    print(\"Array Change\", new_arr)\n",
        "    return new_arr\n",
        "\n",
        "quick_sort([2, 1, 5, 4, 3,10, 12, 20, 50, 25])"
      ],
      "metadata": {
        "colab": {
          "base_uri": "https://localhost:8080/"
        },
        "id": "2Kf7lZf6wOUC",
        "outputId": "4d28b6da-d936-46b4-8e0c-49e38509d7c6"
      },
      "execution_count": 18,
      "outputs": [
        {
          "output_type": "stream",
          "name": "stdout",
          "text": [
            "[2, 1, 5, 4, 3, 10, 12, 20, 50, 25] 2 is pivot [1] and [5, 4, 3, 10, 12, 20, 50, 25] should be sorted\n",
            "[1] 1 is pivot [] and [] should be sorted\n",
            "Array Change [1]\n",
            "[5, 4, 3, 10, 12, 20, 50, 25] 5 is pivot [4, 3] and [10, 12, 20, 50, 25] should be sorted\n",
            "[4, 3] 4 is pivot [3] and [] should be sorted\n",
            "[3] 3 is pivot [] and [] should be sorted\n",
            "Array Change [3]\n",
            "Array Change [3, 4]\n",
            "[10, 12, 20, 50, 25] 10 is pivot [] and [12, 20, 50, 25] should be sorted\n",
            "[12, 20, 50, 25] 12 is pivot [] and [20, 50, 25] should be sorted\n",
            "[20, 50, 25] 20 is pivot [] and [50, 25] should be sorted\n",
            "[50, 25] 50 is pivot [25] and [] should be sorted\n",
            "[25] 25 is pivot [] and [] should be sorted\n",
            "Array Change [25]\n",
            "Array Change [25, 50]\n",
            "Array Change [20, 25, 50]\n",
            "Array Change [12, 20, 25, 50]\n",
            "Array Change [10, 12, 20, 25, 50]\n",
            "Array Change [3, 4, 5, 10, 12, 20, 25, 50]\n",
            "Array Change [1, 2, 3, 4, 5, 10, 12, 20, 25, 50]\n"
          ]
        },
        {
          "output_type": "execute_result",
          "data": {
            "text/plain": [
              "[1, 2, 3, 4, 5, 10, 12, 20, 25, 50]"
            ]
          },
          "metadata": {},
          "execution_count": 18
        }
      ]
    }
  ]
}