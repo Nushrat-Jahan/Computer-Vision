{
  "nbformat": 4,
  "nbformat_minor": 0,
  "metadata": {
    "colab": {
      "name": "1st_HW_Computer_Vision.ipynb",
      "provenance": [],
      "authorship_tag": "ABX9TyPOtmcrooCNGi0D2jYvUELI",
      "include_colab_link": true
    },
    "kernelspec": {
      "name": "python3",
      "display_name": "Python 3"
    },
    "language_info": {
      "name": "python"
    }
  },
  "cells": [
    {
      "cell_type": "markdown",
      "metadata": {
        "id": "view-in-github",
        "colab_type": "text"
      },
      "source": [
        "<a href=\"https://colab.research.google.com/github/Nushrat-Jahan/Computer-Vision/blob/main/1st_HW_Computer_Vision.ipynb\" target=\"_parent\"><img src=\"https://colab.research.google.com/assets/colab-badge.svg\" alt=\"Open In Colab\"/></a>"
      ]
    },
    {
      "cell_type": "code",
      "source": [
        "import pandas as pd\n",
        "import matplotlib.pyplot as plt\n",
        "df = pd.read_csv('/content/3rd_hw_Data.csv')\n",
        "df.head()"
      ],
      "metadata": {
        "colab": {
          "base_uri": "https://localhost:8080/",
          "height": 206
        },
        "id": "tNPhfYsz3_1T",
        "outputId": "a68095a4-1b58-4803-add7-d2d73ec210fa"
      },
      "execution_count": 1,
      "outputs": [
        {
          "output_type": "execute_result",
          "data": {
            "text/html": [
              "\n",
              "  <div id=\"df-6f37226c-d1be-4c65-a992-3f15633891f2\">\n",
              "    <div class=\"colab-df-container\">\n",
              "      <div>\n",
              "<style scoped>\n",
              "    .dataframe tbody tr th:only-of-type {\n",
              "        vertical-align: middle;\n",
              "    }\n",
              "\n",
              "    .dataframe tbody tr th {\n",
              "        vertical-align: top;\n",
              "    }\n",
              "\n",
              "    .dataframe thead th {\n",
              "        text-align: right;\n",
              "    }\n",
              "</style>\n",
              "<table border=\"1\" class=\"dataframe\">\n",
              "  <thead>\n",
              "    <tr style=\"text-align: right;\">\n",
              "      <th></th>\n",
              "      <th>X1</th>\n",
              "      <th>X2</th>\n",
              "      <th>Y</th>\n",
              "    </tr>\n",
              "  </thead>\n",
              "  <tbody>\n",
              "    <tr>\n",
              "      <th>0</th>\n",
              "      <td>4</td>\n",
              "      <td>78</td>\n",
              "      <td>0</td>\n",
              "    </tr>\n",
              "    <tr>\n",
              "      <th>1</th>\n",
              "      <td>75</td>\n",
              "      <td>40</td>\n",
              "      <td>0</td>\n",
              "    </tr>\n",
              "    <tr>\n",
              "      <th>2</th>\n",
              "      <td>14</td>\n",
              "      <td>89</td>\n",
              "      <td>0</td>\n",
              "    </tr>\n",
              "    <tr>\n",
              "      <th>3</th>\n",
              "      <td>97</td>\n",
              "      <td>90</td>\n",
              "      <td>0</td>\n",
              "    </tr>\n",
              "    <tr>\n",
              "      <th>4</th>\n",
              "      <td>48</td>\n",
              "      <td>52</td>\n",
              "      <td>1</td>\n",
              "    </tr>\n",
              "  </tbody>\n",
              "</table>\n",
              "</div>\n",
              "      <button class=\"colab-df-convert\" onclick=\"convertToInteractive('df-6f37226c-d1be-4c65-a992-3f15633891f2')\"\n",
              "              title=\"Convert this dataframe to an interactive table.\"\n",
              "              style=\"display:none;\">\n",
              "        \n",
              "  <svg xmlns=\"http://www.w3.org/2000/svg\" height=\"24px\"viewBox=\"0 0 24 24\"\n",
              "       width=\"24px\">\n",
              "    <path d=\"M0 0h24v24H0V0z\" fill=\"none\"/>\n",
              "    <path d=\"M18.56 5.44l.94 2.06.94-2.06 2.06-.94-2.06-.94-.94-2.06-.94 2.06-2.06.94zm-11 1L8.5 8.5l.94-2.06 2.06-.94-2.06-.94L8.5 2.5l-.94 2.06-2.06.94zm10 10l.94 2.06.94-2.06 2.06-.94-2.06-.94-.94-2.06-.94 2.06-2.06.94z\"/><path d=\"M17.41 7.96l-1.37-1.37c-.4-.4-.92-.59-1.43-.59-.52 0-1.04.2-1.43.59L10.3 9.45l-7.72 7.72c-.78.78-.78 2.05 0 2.83L4 21.41c.39.39.9.59 1.41.59.51 0 1.02-.2 1.41-.59l7.78-7.78 2.81-2.81c.8-.78.8-2.07 0-2.86zM5.41 20L4 18.59l7.72-7.72 1.47 1.35L5.41 20z\"/>\n",
              "  </svg>\n",
              "      </button>\n",
              "      \n",
              "  <style>\n",
              "    .colab-df-container {\n",
              "      display:flex;\n",
              "      flex-wrap:wrap;\n",
              "      gap: 12px;\n",
              "    }\n",
              "\n",
              "    .colab-df-convert {\n",
              "      background-color: #E8F0FE;\n",
              "      border: none;\n",
              "      border-radius: 50%;\n",
              "      cursor: pointer;\n",
              "      display: none;\n",
              "      fill: #1967D2;\n",
              "      height: 32px;\n",
              "      padding: 0 0 0 0;\n",
              "      width: 32px;\n",
              "    }\n",
              "\n",
              "    .colab-df-convert:hover {\n",
              "      background-color: #E2EBFA;\n",
              "      box-shadow: 0px 1px 2px rgba(60, 64, 67, 0.3), 0px 1px 3px 1px rgba(60, 64, 67, 0.15);\n",
              "      fill: #174EA6;\n",
              "    }\n",
              "\n",
              "    [theme=dark] .colab-df-convert {\n",
              "      background-color: #3B4455;\n",
              "      fill: #D2E3FC;\n",
              "    }\n",
              "\n",
              "    [theme=dark] .colab-df-convert:hover {\n",
              "      background-color: #434B5C;\n",
              "      box-shadow: 0px 1px 3px 1px rgba(0, 0, 0, 0.15);\n",
              "      filter: drop-shadow(0px 1px 2px rgba(0, 0, 0, 0.3));\n",
              "      fill: #FFFFFF;\n",
              "    }\n",
              "  </style>\n",
              "\n",
              "      <script>\n",
              "        const buttonEl =\n",
              "          document.querySelector('#df-6f37226c-d1be-4c65-a992-3f15633891f2 button.colab-df-convert');\n",
              "        buttonEl.style.display =\n",
              "          google.colab.kernel.accessAllowed ? 'block' : 'none';\n",
              "\n",
              "        async function convertToInteractive(key) {\n",
              "          const element = document.querySelector('#df-6f37226c-d1be-4c65-a992-3f15633891f2');\n",
              "          const dataTable =\n",
              "            await google.colab.kernel.invokeFunction('convertToInteractive',\n",
              "                                                     [key], {});\n",
              "          if (!dataTable) return;\n",
              "\n",
              "          const docLinkHtml = 'Like what you see? Visit the ' +\n",
              "            '<a target=\"_blank\" href=https://colab.research.google.com/notebooks/data_table.ipynb>data table notebook</a>'\n",
              "            + ' to learn more about interactive tables.';\n",
              "          element.innerHTML = '';\n",
              "          dataTable['output_type'] = 'display_data';\n",
              "          await google.colab.output.renderOutput(dataTable, element);\n",
              "          const docLink = document.createElement('div');\n",
              "          docLink.innerHTML = docLinkHtml;\n",
              "          element.appendChild(docLink);\n",
              "        }\n",
              "      </script>\n",
              "    </div>\n",
              "  </div>\n",
              "  "
            ],
            "text/plain": [
              "   X1  X2  Y\n",
              "0   4  78  0\n",
              "1  75  40  0\n",
              "2  14  89  0\n",
              "3  97  90  0\n",
              "4  48  52  1"
            ]
          },
          "metadata": {},
          "execution_count": 1
        }
      ]
    },
    {
      "cell_type": "code",
      "source": [
        "X1 = df[\"X1\"].values.tolist()\n",
        "X2 = df[\"X2\"].values.tolist()\n",
        "Y = df[\"Y\"].values.tolist()\n",
        "\n",
        "for i in range(len(Y)):\n",
        "    if Y[i] == 0:\n",
        "        plt.plot(X1[i], X2[i], \"r+\")\n",
        "    else:\n",
        "        plt.plot(X1[i], X2[i], \"g+\")"
      ],
      "metadata": {
        "id": "RXTX-Sio4H7C",
        "outputId": "0bd9d2a1-9504-4646-f984-5a873c331af5",
        "colab": {
          "base_uri": "https://localhost:8080/",
          "height": 265
        }
      },
      "execution_count": 2,
      "outputs": [
        {
          "output_type": "display_data",
          "data": {
            "image/png": "[encoded data removed]",
            "text/plain": [
              "<Figure size 432x288 with 1 Axes>"
            ]
          },
          "metadata": {
            "needs_background": "light"
          }
        }
      ]
    },
    {
      "cell_type": "code",
      "source": [
        "import matplotlib.pyplot as plt\n",
        "import numpy as np\n",
        "import random\n",
        "import math\n",
        "from IPython import display\n",
        "from scipy.signal import savgol_filter\n",
        "\n",
        "\n",
        "W = [random.random(), random.random()]\n",
        "b = random.random()\n",
        "\n",
        "# W = [random.uniform(-1,1), random.uniform(-1,1)]\n",
        "# b = random.uniform(-1,1)\n",
        "\n",
        "lr = 0.1\n",
        "theta=0.5\n",
        "\n",
        "epoch = 0\n",
        "count = 0\n",
        "\n",
        "\n",
        "loss = []\n",
        "\n",
        "while count < len(X1):\n",
        "    \n",
        "    total_error = 0\n",
        "    for i in range(len(X1)):\n",
        "        weighted_sum = W[0]*X1[i] + W[1]*X2[i] + b\n",
        "        pred = 0\n",
        "        if weighted_sum > theta:\n",
        "            pred = 1\n",
        "\n",
        "        error =  Y[i] - pred\n",
        "        if error != 0.15:\n",
        "            count = 0\n",
        "            total_error += math.sqrt(error**2)\n",
        "            \n",
        "            W[0] += lr * error * X1[i]\n",
        "            W[1] += lr * error * X2[i]\n",
        "            b    += lr * error\n",
        "        else:\n",
        "            count += 1\n",
        "    \n",
        "    loss.append(1/len(X1)*total_error)\n",
        "    \n",
        "    plt.figure(figsize=(20,5))\n",
        "    #loss.append([epoch, total_error])   \n",
        "    display.clear_output(wait=True)\n",
        "    plt.subplot(1,2,1)\n",
        "\n",
        "    for i in range(len(Y)):\n",
        "        if Y[i] == 0:\n",
        "            plt.plot(X1[i], X2[i], \"r+\")\n",
        "        else:\n",
        "            plt.plot(X1[i], X2[i], \"g+\")\n",
        "\n",
        "        plt.xlim([-10, 110])\n",
        "        plt.ylim([-10, 110])\n",
        "\n",
        "        xintr=(theta-b)/W[0]\n",
        "        yintr=(theta-b)/W[1]\n",
        "\n",
        "        slope = -yintr/xintr\n",
        "        xx = plt.xlim()\n",
        "#                 print(xx)\n",
        "        yeq = []\n",
        "        for x in xx:\n",
        "            yeq.append(slope*x+yintr)\n",
        "        plt.plot(xx,yeq, 'b-')\n",
        "\n",
        "    plt.title(f\"Epoch: {epoch} Loss: {total_error}\")\n",
        "\n",
        "    plt.subplot(1,2,2)\n",
        "    plt.plot(loss, alpha=0.3)\n",
        "    if epoch > 20:\n",
        "        yhat = savgol_filter(loss, 21, 3) # window size 51, polynomial order 3\n",
        "        plt.plot(yhat, 'r--', lw=3)\n",
        "\n",
        "    plt.show()\n",
        "            \n",
        "    print(f\"Epoch: {epoch} Loss: {loss[-1]}\")\n",
        "    epoch += 1"
      ],
      "metadata": {
        "id": "FhxoRx0G4KmN",
        "outputId": "bce19dd4-ba1c-458a-f7e6-b97a034af201",
        "colab": {
          "base_uri": "https://localhost:8080/",
          "height": 303
        }
      },
      "execution_count": null,
      "outputs": [
        {
          "output_type": "display_data",
          "data": {
            "image/png": "[encoded data removed]",
            "text/plain": [
              "<Figure size 1440x360 with 2 Axes>"
            ]
          },
          "metadata": {
            "needs_background": "light"
          }
        },
        {
          "output_type": "stream",
          "name": "stdout",
          "text": [
            "Epoch: 4454 Loss: 0.34\n"
          ]
        }
      ]
    }
  ]
}